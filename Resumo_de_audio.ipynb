{
  "nbformat": 4,
  "nbformat_minor": 0,
  "metadata": {
    "colab": {
      "provenance": [],
      "authorship_tag": "ABX9TyMfK/1V3w91Nq6zMUPl1uPG",
      "include_colab_link": true
    },
    "kernelspec": {
      "name": "python3",
      "display_name": "Python 3"
    },
    "language_info": {
      "name": "python"
    }
  },
  "cells": [
    {
      "cell_type": "markdown",
      "metadata": {
        "id": "view-in-github",
        "colab_type": "text"
      },
      "source": [
        "<a href=\"https://colab.research.google.com/github/HenriquePimenta36/Resumo-de-audios/blob/main/Resumo_de_audio.ipynb\" target=\"_parent\"><img src=\"https://colab.research.google.com/assets/colab-badge.svg\" alt=\"Open In Colab\"/></a>"
      ]
    },
    {
      "cell_type": "markdown",
      "source": [
        "## **Resumo de audios**"
      ],
      "metadata": {
        "id": "A_hSwSOzndM8"
      }
    },
    {
      "cell_type": "markdown",
      "source": [
        "Instalação"
      ],
      "metadata": {
        "id": "25e3MMZln4gx"
      }
    },
    {
      "cell_type": "code",
      "execution_count": 2,
      "metadata": {
        "id": "fU-CGOvm0ZWi"
      },
      "outputs": [],
      "source": [
        "!pip install -q -U google-generativeai"
      ]
    },
    {
      "cell_type": "markdown",
      "source": [
        "Biblioteca"
      ],
      "metadata": {
        "id": "mxVo-p8In6Ah"
      }
    },
    {
      "cell_type": "code",
      "source": [
        "from pathlib import Path\n",
        "from google.colab import files\n",
        "import hashlib\n",
        "import google.generativeai as genai\n"
      ],
      "metadata": {
        "id": "HaEb7ddF3fiM"
      },
      "execution_count": 3,
      "outputs": []
    },
    {
      "cell_type": "markdown",
      "source": [
        "Api key"
      ],
      "metadata": {
        "id": "THjP_wA_n8GZ"
      }
    },
    {
      "cell_type": "code",
      "source": [
        "# Or use `os.getenv('GOOGLE_API_KEY')` to fetch an environment variable.\n",
        "from google.colab import userdata\n",
        "userdata.get('GOOGLE_API_KEY')\n",
        "GOOGLE_API_KEY=userdata.get('GOOGLE_API_KEY')\n",
        "\n",
        "genai.configure(api_key=GOOGLE_API_KEY)"
      ],
      "metadata": {
        "id": "vpdUNprq4Oh7"
      },
      "execution_count": 9,
      "outputs": []
    },
    {
      "cell_type": "markdown",
      "source": [
        "Configurações da API"
      ],
      "metadata": {
        "id": "YOorIqxdoPWn"
      }
    },
    {
      "cell_type": "code",
      "source": [
        "generation_config = {\n",
        "  \"temperature\": 1,\n",
        "  \"top_p\": 0.95,\n",
        "  \"top_k\": 0,\n",
        "  \"max_output_tokens\": 8192,\n",
        "}\n",
        "\n",
        "safety_settings = [\n",
        "  {\n",
        "    \"category\": \"HARM_CATEGORY_HARASSMENT\",\n",
        "    \"threshold\": \"BLOCK_MEDIUM_AND_ABOVE\"\n",
        "  },\n",
        "  {\n",
        "    \"category\": \"HARM_CATEGORY_HATE_SPEECH\",\n",
        "    \"threshold\": \"BLOCK_MEDIUM_AND_ABOVE\"\n",
        "  },\n",
        "  {\n",
        "    \"category\": \"HARM_CATEGORY_SEXUALLY_EXPLICIT\",\n",
        "    \"threshold\": \"BLOCK_MEDIUM_AND_ABOVE\"\n",
        "  },\n",
        "  {\n",
        "    \"category\": \"HARM_CATEGORY_DANGEROUS_CONTENT\",\n",
        "    \"threshold\": \"BLOCK_MEDIUM_AND_ABOVE\"\n",
        "  },\n",
        "]\n",
        "\n",
        "model = genai.GenerativeModel(model_name=\"gemini-1.5-pro-latest\",\n",
        "                              generation_config=generation_config,\n",
        "                              safety_settings=safety_settings)\n",
        "\n"
      ],
      "metadata": {
        "id": "pnHvNcQlhayf"
      },
      "execution_count": 10,
      "outputs": []
    },
    {
      "cell_type": "markdown",
      "source": [
        "Upload de audio"
      ],
      "metadata": {
        "id": "cIn3NP9joVHL"
      }
    },
    {
      "cell_type": "code",
      "source": [
        "  uploaded = files.upload()\n",
        "audio_file = list(uploaded.keys())[0]\n",
        "print(f'O arquivo de áudio {audio_file} foi carregado.')"
      ],
      "metadata": {
        "id": "4oR8Ivz6ibfW"
      },
      "execution_count": null,
      "outputs": []
    },
    {
      "cell_type": "code",
      "source": [
        "print(\"Insira o audio para poder ter seu resumo\")\n",
        "uploaded = files.upload()\n",
        "audio_file = list(uploaded.keys())[0]\n",
        "if audio_file:\n",
        "  print(\"Arquivo carregado com sucesso.\")\n",
        "  audio_file = list(uploaded.keys())[0]\n",
        "  print(f'O arquivo de áudio foi carregado.')\n",
        "else:\n",
        "  print('Erro ao carregar arquivo')"
      ],
      "metadata": {
        "id": "V75_Fe9rsSg8"
      },
      "execution_count": null,
      "outputs": []
    },
    {
      "cell_type": "markdown",
      "source": [
        "Input e outiput de IA\n"
      ],
      "metadata": {
        "id": "IVDqrdLdoxCS"
      }
    },
    {
      "cell_type": "code",
      "source": [
        "prompt_parts = [\n",
        "  \"Resuma a informação que o interlocutor quer passar no audio, reponda de sucinta \",\n",
        "  genai.upload_file(audio_file),\n",
        "]\n",
        "\n",
        "response = model.generate_content(prompt_parts)\n"
      ],
      "metadata": {
        "collapsed": true,
        "id": "EfwT9zGLiQ7m"
      },
      "execution_count": 40,
      "outputs": []
    },
    {
      "cell_type": "markdown",
      "source": [
        "Resposta"
      ],
      "metadata": {
        "id": "UZhiu_Nj1ilH"
      }
    },
    {
      "cell_type": "code",
      "source": [
        "from pickle import TRUE\n",
        "import requests\n",
        "import textwrap\n",
        "\n",
        "\n",
        "texto = response.text\n",
        "\n",
        "\n",
        "#linhas = textwrap.wrap(texto, width=50)\n",
        "\n",
        "# Remove a indentação de cada linha\n",
        "texto_dedentado = textwrap.dedent(texto)\n",
        "\n",
        "# Quebra o texto em linhas com pular linha após ponto final\n",
        "linhas = textwrap.wrap(texto_dedentado, width=100, break_on_hyphens=TRUE)\n",
        "\n",
        "# Imprime cada linha\n",
        "for linha in linhas:\n",
        "  print(linha)\n"
      ],
      "metadata": {
        "id": "j5jRQnCIuJaj"
      },
      "execution_count": null,
      "outputs": []
    }
  ]
}